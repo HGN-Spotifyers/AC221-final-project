{
 "cells": [
  {
   "cell_type": "code",
   "execution_count": null,
   "metadata": {},
   "outputs": [],
   "source": [
    "import numpy as np\n",
    "import pandas as pd\n",
    "\n",
    "from tqdm.notebook import tqdm\n",
    "\n",
    "from IPython.display import display\n"
   ]
  },
  {
   "cell_type": "code",
   "execution_count": null,
   "metadata": {},
   "outputs": [],
   "source": [
    "%load_ext autoreload\n",
    "%autoreload 2\n"
   ]
  },
  {
   "cell_type": "markdown",
   "metadata": {},
   "source": [
    "### Load ACS data:\n"
   ]
  },
  {
   "cell_type": "code",
   "execution_count": null,
   "metadata": {},
   "outputs": [],
   "source": [
    "CENSUS_DATA_ROOT = './data/clean_census_data/'\n"
   ]
  },
  {
   "cell_type": "code",
   "execution_count": null,
   "metadata": {},
   "outputs": [],
   "source": [
    "# Import total population:\n",
    "census_population = pd.read_csv(CENSUS_DATA_ROOT+\"population_totals.csv\")\n",
    "\n",
    "## Import employment data:\n",
    "#census_employment = pd.read_csv(CENSUS_DATA_ROOT+\"employment_population_ratio.csv\")\n",
    "\n",
    "# Import geography data:\n",
    "census_geography = pd.read_csv(CENSUS_DATA_ROOT+\"county_geometries.csv\")\n",
    "\n",
    "# Import employment data:\n",
    "census_employment = pd.read_csv(CENSUS_DATA_ROOT+\"employment_status.csv\")\n",
    "\n",
    "# Import geography data:\n",
    "census_age_total = pd.read_csv(CENSUS_DATA_ROOT+\"age_information_total.csv\")\n",
    "\n",
    "# Import urban/rural data:\n",
    "census_urban_rural = pd.read_csv(CENSUS_DATA_ROOT+\"urban_rural_by_county.csv\")\n",
    "\n",
    "# Import income data:\n",
    "census_income = pd.read_csv(CENSUS_DATA_ROOT+\"income_totals_household.csv\")\n",
    "\n",
    "# Import commuting data:\n",
    "census_commuting = pd.read_csv(CENSUS_DATA_ROOT+\"commuting.csv\")\n",
    "\n",
    "# Add identifiers to total population:\n",
    "census_population['Geographic Area Name'] = census_population['CTYNAME']+', '+census_population['STNAME']\n",
    "census_population = census_population.groupby(['Geographic Area Name','CTYNAME','STNAME']).sum().reset_index()\n",
    "census_population = census_employment[['id','Geographic Area Name']].drop_duplicates().merge(\n",
    "    census_population, left_on=['Geographic Area Name'], right_on=['Geographic Area Name'], how='outer',\n",
    ")\n",
    "census_population.head()\n"
   ]
  },
  {
   "cell_type": "code",
   "execution_count": null,
   "metadata": {},
   "outputs": [],
   "source": [
    "# Get geography data:\n",
    "data = census_geography[['AFFGEOID','ALAND']].rename(columns={\n",
    "    'AFFGEOID' : 'id',\n",
    "    'ALAND' : 'area_square_meters',\n",
    "})\n",
    "# Get population data:\n",
    "data = data.merge(census_population, left_on=['id'], right_on=['id'])\n",
    "# Get employment data:\n",
    "data = data.merge(census_employment,left_on=['id','Geographic Area Name'], right_on=['id','Geographic Area Name'])\n",
    "# Get urban/rural data:\n",
    "data = data.merge(\n",
    "    census_urban_rural.rename(columns={\n",
    "        '2013 code' : 'urbanrural_code_2013', 'type_2013' : 'urbanrural_type_2013',\n",
    "    })[[\n",
    "        'id','urbanrural_code_2013','urbanrural_type_2013'\n",
    "    ]],\n",
    "    left_on=['id'], right_on=['id'],\n",
    ")\n",
    "# Add commuting data:\n",
    "data = data.merge(\n",
    "    census_commuting.drop(['State Name','County Name'],axis=1),\n",
    "    left_on=['id'], right_on=['id'],\n",
    ")\n",
    "# Add income data:\n",
    "data = data.merge(\n",
    "    census_income[[\n",
    "        'id',\n",
    "        #'Less than $10,000',\n",
    "        #'$10,000 to $14,999', \n",
    "        #'$15,000 to $24,999',\n",
    "        #'$25,000 to $34,999',\n",
    "        #'$35,000 to $49,999',\n",
    "        '$50,000 to $74,999',\n",
    "        '$75,000 to $99,999',\n",
    "        '$100,000 to $149,999',\n",
    "        '$150,000 to $199,999',\n",
    "        '$200,000 or more',\n",
    "        'Median income (dollars)',\n",
    "        'Mean income (dollars)',\n",
    "    ]],\n",
    "    left_on=['id'], right_on=['id'],\n",
    ")\n",
    "# Compute metrics:\n",
    "data['pct_above_income_50000'] = census_income[[\n",
    "    #'Less than $10,000',\n",
    "    #'$10,000 to $14,999', \n",
    "    #'$15,000 to $24,999',\n",
    "    #'$25,000 to $34,999',\n",
    "    #'$35,000 to $49,999',\n",
    "    '$50,000 to $74,999',\n",
    "    '$75,000 to $99,999',\n",
    "    '$100,000 to $149,999',\n",
    "    '$150,000 to $199,999',\n",
    "    '$200,000 or more',\n",
    "]].sum(axis=1)\n",
    "data['pop_density'] = data['TOT_POP']/(data['area_square_meters']/1e6)\n",
    "data['pct_work_out_of_county'] = data['number_work_out_of_county']/(\n",
    "    data['number_work_in_county']+data['number_work_out_of_county']\n",
    ")/100\n",
    "data['Labor Force Participation Rate'] = data['Labor Force Participation Rate'].replace('N',np.nan)\n",
    "data['Labor Force Participation Rate'] = data['Labor Force Participation Rate'].astype(float)/100\n",
    "data['urban_rural'] = np.where(data['urbanrural_code_2013'].isin([1,2,3]),'urban','rural')\n",
    "# Rename columns:\n",
    "data = data.rename(columns={'id':'county_id'})\n",
    "\n",
    "data\n"
   ]
  },
  {
   "cell_type": "code",
   "execution_count": null,
   "metadata": {},
   "outputs": [],
   "source": [
    "location_attributes = data.copy().rename(columns={\n",
    "    'county_id' : 'location_id',\n",
    "    'CTYNAME' : 'location_city',\n",
    "    'STNAME' : 'location_state',\n",
    "    'Geographic Area Name' : 'location_name',\n",
    "    'TOT_POP' : 'population',\n",
    "    'urban_rural' : 'density',\n",
    "    'Labor Force Participation Rate' : 'employment_rate',\n",
    "    'pct_above_income_50000' : 'wealth_rate',\n",
    "})[[\n",
    "    'location_id',\n",
    "    'location_city',\n",
    "    'location_state',\n",
    "    'location_name',\n",
    "    'density',\n",
    "    'employment_rate',\n",
    "    'wealth_rate',\n",
    "]]\n",
    "location_attributes\n"
   ]
  },
  {
   "cell_type": "code",
   "execution_count": null,
   "metadata": {},
   "outputs": [],
   "source": []
  }
 ],
 "metadata": {
  "kernelspec": {
   "display_name": "Python 3",
   "language": "python",
   "name": "python3"
  },
  "language_info": {
   "codemirror_mode": {
    "name": "ipython",
    "version": 3
   },
   "file_extension": ".py",
   "mimetype": "text/x-python",
   "name": "python",
   "nbconvert_exporter": "python",
   "pygments_lexer": "ipython3",
   "version": "3.7.6"
  }
 },
 "nbformat": 4,
 "nbformat_minor": 4
}
