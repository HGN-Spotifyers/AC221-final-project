{
 "cells": [
  {
   "cell_type": "code",
   "execution_count": null,
   "metadata": {},
   "outputs": [],
   "source": [
    "import numpy as np\n",
    "import pandas as pd\n",
    "\n",
    "from tqdm.notebook import tqdm\n",
    "\n",
    "from IPython.display import display\n"
   ]
  },
  {
   "cell_type": "code",
   "execution_count": null,
   "metadata": {},
   "outputs": [],
   "source": [
    "%load_ext autoreload\n",
    "%autoreload 2\n"
   ]
  },
  {
   "cell_type": "markdown",
   "metadata": {},
   "source": [
    "### Load ACS data:\n"
   ]
  },
  {
   "cell_type": "code",
   "execution_count": null,
   "metadata": {},
   "outputs": [],
   "source": [
    "CENSUS_DATA_ROOT = './data/clean_census_data/'\n"
   ]
  },
  {
   "cell_type": "code",
   "execution_count": null,
   "metadata": {},
   "outputs": [],
   "source": [
    "# Import total population:\n",
    "census_population = pd.read_csv(CENSUS_DATA_ROOT+\"population_totals.csv\")\n",
    "\n",
    "## Import employment data:\n",
    "#census_employment = pd.read_csv(CENSUS_DATA_ROOT+\"employment_population_ratio.csv\")\n",
    "\n",
    "# Import geography data:\n",
    "census_geography = pd.read_csv(CENSUS_DATA_ROOT+\"county_geometries.csv\")\n",
    "\n",
    "# Import employment data:\n",
    "census_employment = pd.read_csv(CENSUS_DATA_ROOT+\"employment_status.csv\")\n",
    "\n",
    "# Import geography data:\n",
    "census_age_total = pd.read_csv(CENSUS_DATA_ROOT+\"age_information_total.csv\")\n",
    "\n",
    "# Import urban/rural data:\n",
    "census_urban_rural = pd.read_csv(CENSUS_DATA_ROOT+\"urban_rural_by_county.csv\")\n",
    "\n",
    "# Import income data:\n",
    "census_income = pd.read_csv(CENSUS_DATA_ROOT+\"income_totals_household.csv\")\n",
    "\n",
    "# Add identifiers to total population:\n",
    "census_population['Geographic Area Name'] = census_population['CTYNAME']+', '+census_population['STNAME']\n",
    "census_population = census_population.groupby(['Geographic Area Name','CTYNAME','STNAME']).sum().reset_index()\n",
    "census_population = census_employment[['id','Geographic Area Name']].drop_duplicates().merge(\n",
    "    census_population, left_on=['Geographic Area Name'], right_on=['Geographic Area Name'], how='outer',\n",
    ")\n",
    "census_population.head()\n"
   ]
  },
  {
   "cell_type": "code",
   "execution_count": null,
   "metadata": {},
   "outputs": [],
   "source": [
    "# Get geography data:\n",
    "data = census_geography[['AFFGEOID','ALAND']].rename(columns={\n",
    "    'AFFGEOID' : 'id',\n",
    "    'ALAND' : 'area_square_meters',\n",
    "})\n",
    "# Get population data:\n",
    "data = data.merge(census_population, left_on=['id'], right_on=['id'])\n",
    "# Get employment data:\n",
    "data = data.merge(census_employment,left_on=['id','Geographic Area Name'], right_on=['id','Geographic Area Name'])\n",
    "# Get urban/rural data:\n",
    "data = data.merge(\n",
    "    census_urban_rural.rename(columns={'2013 code' : 'code_2013'})[['id','code_2013','type_2013']],\n",
    "    left_on=['id'], right_on=['id'],\n",
    ")\n",
    "# Compute metrics:\n",
    "data['pop_density'] = data['TOT_POP']/(data['area_square_meters']/1e6)\n",
    "# Rename columns:\n",
    "data = data.rename(columns={'id':'county_id'})\n",
    "\n",
    "data\n"
   ]
  },
  {
   "cell_type": "code",
   "execution_count": null,
   "metadata": {},
   "outputs": [],
   "source": []
  }
 ],
 "metadata": {
  "kernelspec": {
   "display_name": "Python 3",
   "language": "python",
   "name": "python3"
  },
  "language_info": {
   "codemirror_mode": {
    "name": "ipython",
    "version": 3
   },
   "file_extension": ".py",
   "mimetype": "text/x-python",
   "name": "python",
   "nbconvert_exporter": "python",
   "pygments_lexer": "ipython3",
   "version": "3.7.6"
  }
 },
 "nbformat": 4,
 "nbformat_minor": 4
}
