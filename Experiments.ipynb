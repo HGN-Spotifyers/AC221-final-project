{
 "cells": [
  {
   "cell_type": "code",
   "execution_count": 1,
   "metadata": {},
   "outputs": [],
   "source": [
    "import numpy as np\n",
    "import pandas as pd\n",
    "\n",
    "from tqdm.notebook import tqdm\n",
    "\n",
    "from IPython.display import display\n"
   ]
  },
  {
   "cell_type": "code",
   "execution_count": 2,
   "metadata": {},
   "outputs": [],
   "source": [
    "%load_ext autoreload\n",
    "%autoreload 2\n",
    "    \n",
    "from simulation_tools import Population\n",
    "from simulation_tools import Transformation\n",
    "from simulation_tools import Metric\n",
    "from simulation_tools import Experiment\n"
   ]
  },
  {
   "cell_type": "code",
   "execution_count": 3,
   "metadata": {},
   "outputs": [
    {
     "name": "stdout",
     "output_type": "stream",
     "text": [
      "Loaded data for 39 locations (18528 people).\n"
     ]
    },
    {
     "data": {
      "text/html": [
       "<div>\n",
       "<style scoped>\n",
       "    .dataframe tbody tr th:only-of-type {\n",
       "        vertical-align: middle;\n",
       "    }\n",
       "\n",
       "    .dataframe tbody tr th {\n",
       "        vertical-align: top;\n",
       "    }\n",
       "\n",
       "    .dataframe thead th {\n",
       "        text-align: right;\n",
       "    }\n",
       "</style>\n",
       "<table border=\"1\" class=\"dataframe\">\n",
       "  <thead>\n",
       "    <tr style=\"text-align: right;\">\n",
       "      <th></th>\n",
       "      <th>location_id</th>\n",
       "      <th>location_county</th>\n",
       "      <th>location_state</th>\n",
       "      <th>location_name</th>\n",
       "      <th>population</th>\n",
       "      <th>density</th>\n",
       "      <th>employment_rate</th>\n",
       "      <th>wealth_rate</th>\n",
       "    </tr>\n",
       "  </thead>\n",
       "  <tbody>\n",
       "    <tr>\n",
       "      <th>44</th>\n",
       "      <td>0500000US36013</td>\n",
       "      <td>Chautauqua County</td>\n",
       "      <td>New York</td>\n",
       "      <td>0500000US36013</td>\n",
       "      <td>127</td>\n",
       "      <td>rural</td>\n",
       "      <td>0.576</td>\n",
       "      <td>0.526</td>\n",
       "    </tr>\n",
       "    <tr>\n",
       "      <th>45</th>\n",
       "      <td>0500000US36029</td>\n",
       "      <td>Erie County</td>\n",
       "      <td>New York</td>\n",
       "      <td>0500000US36029</td>\n",
       "      <td>919</td>\n",
       "      <td>urban</td>\n",
       "      <td>0.620</td>\n",
       "      <td>0.650</td>\n",
       "    </tr>\n",
       "    <tr>\n",
       "      <th>46</th>\n",
       "      <td>0500000US36045</td>\n",
       "      <td>Jefferson County</td>\n",
       "      <td>New York</td>\n",
       "      <td>0500000US36045</td>\n",
       "      <td>111</td>\n",
       "      <td>rural</td>\n",
       "      <td>0.631</td>\n",
       "      <td>0.620</td>\n",
       "    </tr>\n",
       "    <tr>\n",
       "      <th>47</th>\n",
       "      <td>0500000US36047</td>\n",
       "      <td>Kings County</td>\n",
       "      <td>New York</td>\n",
       "      <td>0500000US36047</td>\n",
       "      <td>2582</td>\n",
       "      <td>urban</td>\n",
       "      <td>0.635</td>\n",
       "      <td>0.702</td>\n",
       "    </tr>\n",
       "    <tr>\n",
       "      <th>48</th>\n",
       "      <td>0500000US36053</td>\n",
       "      <td>Madison County</td>\n",
       "      <td>New York</td>\n",
       "      <td>0500000US36053</td>\n",
       "      <td>70</td>\n",
       "      <td>urban</td>\n",
       "      <td>0.609</td>\n",
       "      <td>0.579</td>\n",
       "    </tr>\n",
       "  </tbody>\n",
       "</table>\n",
       "</div>"
      ],
      "text/plain": [
       "       location_id    location_county location_state   location_name  \\\n",
       "44  0500000US36013  Chautauqua County       New York  0500000US36013   \n",
       "45  0500000US36029        Erie County       New York  0500000US36029   \n",
       "46  0500000US36045   Jefferson County       New York  0500000US36045   \n",
       "47  0500000US36047       Kings County       New York  0500000US36047   \n",
       "48  0500000US36053     Madison County       New York  0500000US36053   \n",
       "\n",
       "    population density  employment_rate  wealth_rate  \n",
       "44         127   rural            0.576        0.526  \n",
       "45         919   urban            0.620        0.650  \n",
       "46         111   rural            0.631        0.620  \n",
       "47        2582   urban            0.635        0.702  \n",
       "48          70   urban            0.609        0.579  "
      ]
     },
     "metadata": {},
     "output_type": "display_data"
    },
    {
     "data": {
      "text/html": [
       "<div>\n",
       "<style scoped>\n",
       "    .dataframe tbody tr th:only-of-type {\n",
       "        vertical-align: middle;\n",
       "    }\n",
       "\n",
       "    .dataframe tbody tr th {\n",
       "        vertical-align: top;\n",
       "    }\n",
       "\n",
       "    .dataframe thead th {\n",
       "        text-align: right;\n",
       "    }\n",
       "</style>\n",
       "<table border=\"1\" class=\"dataframe\">\n",
       "  <thead>\n",
       "    <tr style=\"text-align: right;\">\n",
       "      <th></th>\n",
       "      <th>location_id</th>\n",
       "      <th>location_county</th>\n",
       "      <th>location_state</th>\n",
       "      <th>location_name</th>\n",
       "      <th>wealth_status</th>\n",
       "      <th>employment_status</th>\n",
       "      <th>phoneownership_rate</th>\n",
       "      <th>worktravel_mean</th>\n",
       "      <th>worktravel_std</th>\n",
       "      <th>socialtravel_mean</th>\n",
       "      <th>socialtravel_std</th>\n",
       "      <th>grocerytravel_mean</th>\n",
       "      <th>grocerytravel_std</th>\n",
       "    </tr>\n",
       "  </thead>\n",
       "  <tbody>\n",
       "    <tr>\n",
       "      <th>176</th>\n",
       "      <td>0500000US36013</td>\n",
       "      <td>Chautauqua County</td>\n",
       "      <td>New York</td>\n",
       "      <td>0500000US36013</td>\n",
       "      <td>0</td>\n",
       "      <td>0</td>\n",
       "      <td>0.641842</td>\n",
       "      <td>0.0</td>\n",
       "      <td>0.0</td>\n",
       "      <td>24.5</td>\n",
       "      <td>2.9</td>\n",
       "      <td>21.3</td>\n",
       "      <td>1.9</td>\n",
       "    </tr>\n",
       "    <tr>\n",
       "      <th>177</th>\n",
       "      <td>0500000US36013</td>\n",
       "      <td>Chautauqua County</td>\n",
       "      <td>New York</td>\n",
       "      <td>0500000US36013</td>\n",
       "      <td>0</td>\n",
       "      <td>1</td>\n",
       "      <td>0.641842</td>\n",
       "      <td>28.2</td>\n",
       "      <td>2.1</td>\n",
       "      <td>24.5</td>\n",
       "      <td>2.9</td>\n",
       "      <td>21.3</td>\n",
       "      <td>1.9</td>\n",
       "    </tr>\n",
       "    <tr>\n",
       "      <th>178</th>\n",
       "      <td>0500000US36013</td>\n",
       "      <td>Chautauqua County</td>\n",
       "      <td>New York</td>\n",
       "      <td>0500000US36013</td>\n",
       "      <td>1</td>\n",
       "      <td>0</td>\n",
       "      <td>0.806005</td>\n",
       "      <td>0.0</td>\n",
       "      <td>0.0</td>\n",
       "      <td>28.7</td>\n",
       "      <td>3.1</td>\n",
       "      <td>27.4</td>\n",
       "      <td>3.7</td>\n",
       "    </tr>\n",
       "    <tr>\n",
       "      <th>179</th>\n",
       "      <td>0500000US36013</td>\n",
       "      <td>Chautauqua County</td>\n",
       "      <td>New York</td>\n",
       "      <td>0500000US36013</td>\n",
       "      <td>1</td>\n",
       "      <td>1</td>\n",
       "      <td>0.806005</td>\n",
       "      <td>31.3</td>\n",
       "      <td>1.8</td>\n",
       "      <td>28.7</td>\n",
       "      <td>3.1</td>\n",
       "      <td>27.4</td>\n",
       "      <td>3.7</td>\n",
       "    </tr>\n",
       "    <tr>\n",
       "      <th>180</th>\n",
       "      <td>0500000US36029</td>\n",
       "      <td>Erie County</td>\n",
       "      <td>New York</td>\n",
       "      <td>0500000US36029</td>\n",
       "      <td>0</td>\n",
       "      <td>0</td>\n",
       "      <td>0.690369</td>\n",
       "      <td>0.0</td>\n",
       "      <td>0.0</td>\n",
       "      <td>18.2</td>\n",
       "      <td>2.5</td>\n",
       "      <td>12.0</td>\n",
       "      <td>2.2</td>\n",
       "    </tr>\n",
       "  </tbody>\n",
       "</table>\n",
       "</div>"
      ],
      "text/plain": [
       "        location_id    location_county location_state   location_name  \\\n",
       "176  0500000US36013  Chautauqua County       New York  0500000US36013   \n",
       "177  0500000US36013  Chautauqua County       New York  0500000US36013   \n",
       "178  0500000US36013  Chautauqua County       New York  0500000US36013   \n",
       "179  0500000US36013  Chautauqua County       New York  0500000US36013   \n",
       "180  0500000US36029        Erie County       New York  0500000US36029   \n",
       "\n",
       "     wealth_status  employment_status  phoneownership_rate  worktravel_mean  \\\n",
       "176              0                  0             0.641842              0.0   \n",
       "177              0                  1             0.641842             28.2   \n",
       "178              1                  0             0.806005              0.0   \n",
       "179              1                  1             0.806005             31.3   \n",
       "180              0                  0             0.690369              0.0   \n",
       "\n",
       "     worktravel_std  socialtravel_mean  socialtravel_std  grocerytravel_mean  \\\n",
       "176             0.0               24.5               2.9                21.3   \n",
       "177             2.1               24.5               2.9                21.3   \n",
       "178             0.0               28.7               3.1                27.4   \n",
       "179             1.8               28.7               3.1                27.4   \n",
       "180             0.0               18.2               2.5                12.0   \n",
       "\n",
       "     grocerytravel_std  \n",
       "176                1.9  \n",
       "177                1.9  \n",
       "178                3.7  \n",
       "179                3.7  \n",
       "180                2.2  "
      ]
     },
     "metadata": {},
     "output_type": "display_data"
    }
   ],
   "source": [
    "# Load data:\n",
    "SYNTHETIC_DATA = './synthetic_data/'\n",
    "\n",
    "dummy = False\n",
    "\n",
    "if dummy:\n",
    "\n",
    "    location_attributes = pd.read_csv(SYNTHETIC_DATA+'location_attributes_dummy.csv')\n",
    "    location_profiles = pd.read_csv(SYNTHETIC_DATA+'location_profiles_dummy.csv')\n",
    "\n",
    "else:\n",
    "    \n",
    "    location_attributes = pd.read_csv(SYNTHETIC_DATA+'location_attributes_census.csv')\n",
    "    location_attributes['location_name'] = location_attributes['location_id']\n",
    "\n",
    "    location_profiles = pd.read_csv(SYNTHETIC_DATA+'location_profiles_census.csv')\n",
    "    location_profiles['location_name'] = location_profiles['location_id']\n",
    "    \n",
    "    # Limit to one state and divide population by a constant to get reasonable sample size.\n",
    "    state = 'New York'\n",
    "    constant = 1000\n",
    "    location_attributes = location_attributes[location_attributes['location_state']==state]\n",
    "    location_profiles = location_profiles[location_profiles['location_state']==state]\n",
    "    location_attributes['population'] = (location_attributes['population']/constant).astype(int)\n",
    "    \n",
    "    # Rescale standard deviations:\n",
    "    location_profiles['worktravel_std'] = np.round(location_profiles['worktravel_std']/20,1)\n",
    "    location_profiles['socialtravel_std'] = np.round(location_profiles['socialtravel_std']/20,1)\n",
    "    location_profiles['grocerytravel_std'] = np.round(location_profiles['grocerytravel_std']/20,1)\n",
    "    \n",
    "print(\"Loaded data for {} locations ({} people).\".format(\n",
    "    len(location_attributes),location_attributes['population'].sum()\n",
    "))\n",
    "\n",
    "display(location_attributes.head())\n",
    "display(location_profiles.head())\n"
   ]
  },
  {
   "cell_type": "code",
   "execution_count": null,
   "metadata": {},
   "outputs": [],
   "source": [
    "import statsmodels.api as sm\n",
    "import statsmodels.formula.api as smf\n",
    "import scipy.stats as stats\n",
    "pd.set_option('display.max_rows', 500)\n",
    "\n",
    "import matplotlib.pyplot as plt\n",
    "import seaborn as sns"
   ]
  },
  {
   "cell_type": "code",
   "execution_count": 378,
   "metadata": {},
   "outputs": [
    {
     "data": {
      "application/vnd.jupyter.widget-view+json": {
       "model_id": "edd835294a08413d81d73bda567f6ca7",
       "version_major": 2,
       "version_minor": 0
      },
      "text/plain": [
       "HBox(children=(FloatProgress(value=0.0, max=10.0), HTML(value='')))"
      ]
     },
     "metadata": {},
     "output_type": "display_data"
    },
    {
     "name": "stdout",
     "output_type": "stream",
     "text": [
      "\n"
     ]
    }
   ],
   "source": [
    "#population = Population(location_attributes, location_profiles, random_state=221)\n",
    "#transformation = Transformation(population, behavior='total_compliance', random_state=221)\n",
    "#metric = Metric(population, transformation, method='median_person', random_state=221)\n",
    "\n",
    "experiment1 = Experiment(\n",
    "    location_attributes, location_profiles, behavior='total_compliance', method='average_person',\n",
    "    trials=10, show_progress=True, experiment_name=None, random_state=221,\n",
    ")\n"
   ]
  },
  {
   "cell_type": "code",
   "execution_count": 519,
   "metadata": {},
   "outputs": [],
   "source": [
    "full_df = experiment1.get_results(style='df')\n",
    "\n",
    "\n",
    "# df = full_df_reset[full_df_reset['population_name']=='trial3']\n",
    "full_df.reset_index(inplace=True)"
   ]
  },
  {
   "cell_type": "code",
   "execution_count": 520,
   "metadata": {},
   "outputs": [
    {
     "data": {
      "image/png": "[encoded data removed]",
      "text/plain": [
       "<Figure size 720x432 with 1 Axes>"
      ]
     },
     "metadata": {
      "needs_background": "light"
     },
     "output_type": "display_data"
    }
   ],
   "source": [
    "actualchange = full_df['actual_change']\n",
    "observedchange = full_df['observed_change']\n",
    "\n",
    "plt.figure(figsize=(10,6))\n",
    "sns.distplot(actualchange,hist=False,label='actual')\n",
    "sns.distplot(observedchange,hist=False,label='observed')\n",
    "plt.legend()\n",
    "plt.show()\n",
    "\n",
    "print(stats.ttest_rel(actualchange,observedchange))\n",
    "print(stats.ks_2samp(actualchange,observedchange))"
   ]
  },
  {
   "cell_type": "code",
   "execution_count": 521,
   "metadata": {},
   "outputs": [
    {
     "name": "stdout",
     "output_type": "stream",
     "text": [
      "Ttest_relResult(statistic=-3.772838943180442, pvalue=0.00018652702027116257)\n",
      "Ks_2sampResult(statistic=0.06666666666666667, pvalue=0.35179443856266657)\n"
     ]
    }
   ],
   "source": [
    "print(stats.ttest_rel(actualchange,observedchange))\n",
    "print(stats.ks_2samp(actualchange,observedchange))"
   ]
  },
  {
   "cell_type": "code",
   "execution_count": 518,
   "metadata": {},
   "outputs": [
    {
     "name": "stdout",
     "output_type": "stream",
     "text": [
      "Ttest_relResult(statistic=-3.772838943180442, pvalue=0.00018652702027116257)\n",
      "Ks_2sampResult(statistic=0.06666666666666667, pvalue=0.35179443856266657)\n"
     ]
    }
   ],
   "source": [
    "print(stats.ttest_rel(actual_dist,obs_dist))\n",
    "print(stats.ks_2samp(actual_dist,obs_dist))"
   ]
  },
  {
   "cell_type": "code",
   "execution_count": 222,
   "metadata": {},
   "outputs": [],
   "source": [
    "actual = df[['location_name','actual_before', 'actual_after']].rename(columns={'location_name':'loc','actual_before':'before','actual_after':'after'})\n",
    "observed = df[['location_name','observed_before', 'observed_after']].rename(columns={'location_name':'loc','observed_before':'before','observed_after':'after'})\n",
    "\n",
    "actual['group']='actual'\n",
    "observed['group']='observed'\n",
    "\n",
    "newdf = actual.append(observed)"
   ]
  },
  {
   "cell_type": "code",
   "execution_count": 223,
   "metadata": {},
   "outputs": [
    {
     "data": {
      "text/html": [
       "<div>\n",
       "<style scoped>\n",
       "    .dataframe tbody tr th:only-of-type {\n",
       "        vertical-align: middle;\n",
       "    }\n",
       "\n",
       "    .dataframe tbody tr th {\n",
       "        vertical-align: top;\n",
       "    }\n",
       "\n",
       "    .dataframe thead th {\n",
       "        text-align: right;\n",
       "    }\n",
       "</style>\n",
       "<table border=\"1\" class=\"dataframe\">\n",
       "  <thead>\n",
       "    <tr style=\"text-align: right;\">\n",
       "      <th></th>\n",
       "      <th>loc</th>\n",
       "      <th>group</th>\n",
       "      <th>time</th>\n",
       "      <th>value</th>\n",
       "    </tr>\n",
       "  </thead>\n",
       "  <tbody>\n",
       "    <tr>\n",
       "      <th>0</th>\n",
       "      <td>0500000US36001</td>\n",
       "      <td>actual</td>\n",
       "      <td>before</td>\n",
       "      <td>48.997638</td>\n",
       "    </tr>\n",
       "    <tr>\n",
       "      <th>1</th>\n",
       "      <td>0500000US36005</td>\n",
       "      <td>actual</td>\n",
       "      <td>before</td>\n",
       "      <td>43.762572</td>\n",
       "    </tr>\n",
       "    <tr>\n",
       "      <th>2</th>\n",
       "      <td>0500000US36007</td>\n",
       "      <td>actual</td>\n",
       "      <td>before</td>\n",
       "      <td>70.347101</td>\n",
       "    </tr>\n",
       "    <tr>\n",
       "      <th>3</th>\n",
       "      <td>0500000US36009</td>\n",
       "      <td>actual</td>\n",
       "      <td>before</td>\n",
       "      <td>67.576132</td>\n",
       "    </tr>\n",
       "    <tr>\n",
       "      <th>4</th>\n",
       "      <td>0500000US36011</td>\n",
       "      <td>actual</td>\n",
       "      <td>before</td>\n",
       "      <td>69.334686</td>\n",
       "    </tr>\n",
       "  </tbody>\n",
       "</table>\n",
       "</div>"
      ],
      "text/plain": [
       "              loc   group    time      value\n",
       "0  0500000US36001  actual  before  48.997638\n",
       "1  0500000US36005  actual  before  43.762572\n",
       "2  0500000US36007  actual  before  70.347101\n",
       "3  0500000US36009  actual  before  67.576132\n",
       "4  0500000US36011  actual  before  69.334686"
      ]
     },
     "execution_count": 223,
     "metadata": {},
     "output_type": "execute_result"
    }
   ],
   "source": [
    "df_i = pd.melt(newdf,id_vars=['loc','group'],var_name='time',value_vars=['before','after'])\n",
    "df_i.head()"
   ]
  },
  {
   "cell_type": "code",
   "execution_count": 224,
   "metadata": {},
   "outputs": [
    {
     "name": "stdout",
     "output_type": "stream",
     "text": [
      "                            OLS Regression Results                            \n",
      "==============================================================================\n",
      "Dep. Variable:                  value   R-squared:                       0.737\n",
      "Model:                            OLS   Adj. R-squared:                  0.731\n",
      "Method:                 Least Squares   F-statistic:                     141.7\n",
      "Date:                Sat, 02 May 2020   Prob (F-statistic):           7.98e-44\n",
      "Time:                        19:03:52   Log-Likelihood:                -560.52\n",
      "No. Observations:                 156   AIC:                             1129.\n",
      "Df Residuals:                     152   BIC:                             1141.\n",
      "Df Model:                           3                                         \n",
      "Covariance Type:            nonrobust                                         \n",
      "====================================================================================================\n",
      "                                       coef    std err          t      P>|t|      [0.025      0.975]\n",
      "----------------------------------------------------------------------------------------------------\n",
      "Intercept                           24.6768      1.427     17.296      0.000      21.858      27.495\n",
      "time[T.before]                      29.3041      2.018     14.524      0.000      25.318      33.290\n",
      "group[T.observed]                    0.3003      2.018      0.149      0.882      -3.686       4.287\n",
      "time[T.before]:group[T.observed]     0.2085      2.853      0.073      0.942      -5.429       5.846\n",
      "==============================================================================\n",
      "Omnibus:                       32.782   Durbin-Watson:                   1.137\n",
      "Prob(Omnibus):                  0.000   Jarque-Bera (JB):               22.618\n",
      "Skew:                           0.810   Prob(JB):                     1.23e-05\n",
      "Kurtosis:                       2.074   Cond. No.                         6.85\n",
      "==============================================================================\n",
      "\n",
      "Warnings:\n",
      "[1] Standard Errors assume that the covariance matrix of the errors is correctly specified.\n"
     ]
    }
   ],
   "source": [
    "mod = smf.ols(formula='value ~ time + group + time:group', data=df_i)\n",
    "res = mod.fit()\n",
    "print(res.summary())"
   ]
  },
  {
   "cell_type": "code",
   "execution_count": 213,
   "metadata": {},
   "outputs": [
    {
     "name": "stdout",
     "output_type": "stream",
     "text": [
      "                            OLS Regression Results                            \n",
      "==============================================================================\n",
      "Dep. Variable:                  value   R-squared:                       0.772\n",
      "Model:                            OLS   Adj. R-squared:                  0.771\n",
      "Method:                 Least Squares   F-statistic:                     1752.\n",
      "Date:                Sat, 02 May 2020   Prob (F-statistic):               0.00\n",
      "Time:                        18:52:43   Log-Likelihood:                -5661.7\n",
      "No. Observations:                1560   AIC:                         1.133e+04\n",
      "Df Residuals:                    1556   BIC:                         1.135e+04\n",
      "Df Model:                           3                                         \n",
      "Covariance Type:            nonrobust                                         \n",
      "====================================================================================================\n",
      "                                       coef    std err          t      P>|t|      [0.025      0.975]\n",
      "----------------------------------------------------------------------------------------------------\n",
      "Intercept                           20.9190      0.462     45.243      0.000      20.012      21.826\n",
      "time[T.before]                      33.4844      0.654     51.209      0.000      32.202      34.767\n",
      "group[T.observed]                    0.3609      0.654      0.552      0.581      -0.922       1.643\n",
      "time[T.before]:group[T.observed]     0.0619      0.925      0.067      0.947      -1.752       1.876\n",
      "==============================================================================\n",
      "Omnibus:                      236.865   Durbin-Watson:                   1.173\n",
      "Prob(Omnibus):                  0.000   Jarque-Bera (JB):              221.153\n",
      "Skew:                           0.847   Prob(JB):                     9.49e-49\n",
      "Kurtosis:                       2.270   Cond. No.                         6.85\n",
      "==============================================================================\n",
      "\n",
      "Warnings:\n",
      "[1] Standard Errors assume that the covariance matrix of the errors is correctly specified.\n"
     ]
    }
   ],
   "source": [
    "mod = smf.ols(formula='value ~ time + group + time:group', data=df_i)\n",
    "res = mod.fit()\n",
    "print(res.pvalues[3])"
   ]
  },
  {
   "cell_type": "code",
   "execution_count": 214,
   "metadata": {},
   "outputs": [
    {
     "data": {
      "text/plain": [
       "0.9466562124355862"
      ]
     },
     "execution_count": 214,
     "metadata": {},
     "output_type": "execute_result"
    }
   ],
   "source": []
  },
  {
   "cell_type": "code",
   "execution_count": 210,
   "metadata": {},
   "outputs": [
    {
     "data": {
      "image/png": "[encoded data removed]",
      "text/plain": [
       "<Figure size 432x288 with 1 Axes>"
      ]
     },
     "metadata": {
      "needs_background": "light"
     },
     "output_type": "display_data"
    }
   ],
   "source": [
    "i=7\n",
    "plt.plot([1,2],[actual_before[i],actual_after[i]],'-o')\n",
    "plt.plot([1,2],[obs_before[i],obs_after[i]],'-o')\n",
    "plt.show()"
   ]
  },
  {
   "cell_type": "code",
   "execution_count": null,
   "metadata": {},
   "outputs": [],
   "source": []
  },
  {
   "cell_type": "code",
   "execution_count": 566,
   "metadata": {},
   "outputs": [
    {
     "data": {
      "image/png": "[encoded data removed]",
      "text/plain": [
       "<Figure size 720x432 with 1 Axes>"
      ]
     },
     "metadata": {
      "needs_background": "light"
     },
     "output_type": "display_data"
    },
    {
     "name": "stdout",
     "output_type": "stream",
     "text": [
      "Ttest_relResult(statistic=-3.772838943180442, pvalue=0.00018652702027116257)\n",
      "Ks_2sampResult(statistic=0.06666666666666667, pvalue=0.35179443856266657)\n"
     ]
    }
   ],
   "source": [
    "def distributionplot(df_in):\n",
    "    '''\n",
    "    Create Distribution plots for the two delta vectors\n",
    "    '''\n",
    "    # Copy DF and flatten indices\n",
    "    full_df_reset = df_in.copy(deep=True)\n",
    "    full_df_reset.reset_index(inplace=True)\n",
    "\n",
    "    # Get distributions of actual and observed change\n",
    "    actual_dist = full_df_reset['actual_change']\n",
    "    obs_dist = full_df_reset['observed_change']\n",
    "\n",
    "    plt.figure(figsize=(10,6))\n",
    "    sns.distplot(actual_dist,hist=False,label='actual')\n",
    "    sns.distplot(obs_dist,hist=False,label='observed')\n",
    "    plt.xlabel('Change in distance travelled')\n",
    "    plt.title('Distribution of changes in distance travelled')\n",
    "    plt.legend()\n",
    "    plt.show()\n",
    "    \n",
    "    import scipy.stats as stats\n",
    "    print(stats.ttest_rel(actual_dist,obs_dist))\n",
    "    print(stats.ks_2samp(actual_dist,obs_dist))\n",
    "    \n",
    "distributionplot(full_df)"
   ]
  },
  {
   "cell_type": "code",
   "execution_count": 568,
   "metadata": {
    "scrolled": true
   },
   "outputs": [],
   "source": [
    "def rankingDFs(df_in,ntrials):\n",
    "    '''\n",
    "    Creates 3 dataframes of actual, observed and difference \n",
    "    representing rankings in change in distance traveled before/after across multiple trials\n",
    "    '''\n",
    "    full_df_reset = df_in.copy(deep=True)\n",
    "    full_df_reset.reset_index(inplace=True)\n",
    "    \n",
    "    # Set up 3 dataframes\n",
    "    df_rankchanges = pd.DataFrame(index=np.unique(full_df_reset.location_name))\n",
    "    df_rankactual = pd.DataFrame(index=np.unique(full_df_reset.location_name))\n",
    "    df_rankobs = pd.DataFrame(index=np.unique(full_df_reset.location_name))\n",
    "\n",
    "    # Loop through each trial and compute ranks for observed,actual and compute delta-rank\n",
    "    # Put them in their own DFs\n",
    "    for trialnum in range(1,ntrials+1):\n",
    "\n",
    "        this_trial = full_df_reset.copy()\n",
    "\n",
    "        # Extract just the current trial in question\n",
    "        thistrialname = 'trial'+str(trialnum)\n",
    "        this_trial = this_trial[this_trial['population_name']==thistrialname]\n",
    "        this_trial.set_index('location_name',inplace=True)\n",
    "\n",
    "        # Compute ranks for this trial\n",
    "        actual_rank_i=(-this_trial['actual_change']).rank()\n",
    "        obs_rank_i=(-this_trial['observed_change']).rank()\n",
    "\n",
    "        # Add actual and observed ranks for current trial to DFs\n",
    "        df_rankactual[thistrialname]=actual_rank_i\n",
    "        df_rankobs[thistrialname]=obs_rank_i\n",
    "\n",
    "        # compute differnce in ranks for current trial and add to DF\n",
    "        thisrankchange = 'rank_change_'+str(trialnum)\n",
    "        df_rankchanges[thisrankchange]=obs_rank_i-actual_rank_i\n",
    "        \n",
    "\n",
    "    return(df_rankactual,df_rankobs,df_rankchanges)"
   ]
  },
  {
   "cell_type": "code",
   "execution_count": null,
   "metadata": {},
   "outputs": [],
   "source": []
  },
  {
   "cell_type": "code",
   "execution_count": 569,
   "metadata": {},
   "outputs": [],
   "source": [
    "this_trial = full_df_reset.copy()\n",
    "\n",
    "# Extract just the current trial in question\n",
    "this_trial = this_trial[this_trial['population_name']=='trial1']\n",
    "this_trial.set_index('location_name',inplace=True)"
   ]
  },
  {
   "cell_type": "code",
   "execution_count": 575,
   "metadata": {},
   "outputs": [
    {
     "data": {
      "text/html": [
       "<div>\n",
       "<style scoped>\n",
       "    .dataframe tbody tr th:only-of-type {\n",
       "        vertical-align: middle;\n",
       "    }\n",
       "\n",
       "    .dataframe tbody tr th {\n",
       "        vertical-align: top;\n",
       "    }\n",
       "\n",
       "    .dataframe thead th {\n",
       "        text-align: right;\n",
       "    }\n",
       "</style>\n",
       "<table border=\"1\" class=\"dataframe\">\n",
       "  <thead>\n",
       "    <tr style=\"text-align: right;\">\n",
       "      <th></th>\n",
       "      <th>experiment_name</th>\n",
       "      <th>population_name</th>\n",
       "      <th>actual_before</th>\n",
       "      <th>actual_after</th>\n",
       "      <th>actual_delta</th>\n",
       "      <th>actual_change</th>\n",
       "      <th>observed_before</th>\n",
       "      <th>observed_after</th>\n",
       "      <th>observed_delta</th>\n",
       "      <th>observed_change</th>\n",
       "    </tr>\n",
       "    <tr>\n",
       "      <th>location_name</th>\n",
       "      <th></th>\n",
       "      <th></th>\n",
       "      <th></th>\n",
       "      <th></th>\n",
       "      <th></th>\n",
       "      <th></th>\n",
       "      <th></th>\n",
       "      <th></th>\n",
       "      <th></th>\n",
       "      <th></th>\n",
       "    </tr>\n",
       "  </thead>\n",
       "  <tbody>\n",
       "    <tr>\n",
       "      <th>0500000US36007</th>\n",
       "      <td>experiment16</td>\n",
       "      <td>trial1</td>\n",
       "      <td>70.386703</td>\n",
       "      <td>24.783810</td>\n",
       "      <td>-45.602893</td>\n",
       "      <td>-0.647891</td>\n",
       "      <td>70.109481</td>\n",
       "      <td>24.571130</td>\n",
       "      <td>-45.538351</td>\n",
       "      <td>-0.649532</td>\n",
       "    </tr>\n",
       "    <tr>\n",
       "      <th>0500000US36019</th>\n",
       "      <td>experiment16</td>\n",
       "      <td>trial1</td>\n",
       "      <td>66.581250</td>\n",
       "      <td>23.502717</td>\n",
       "      <td>-43.078533</td>\n",
       "      <td>-0.647007</td>\n",
       "      <td>67.634284</td>\n",
       "      <td>23.515698</td>\n",
       "      <td>-44.118586</td>\n",
       "      <td>-0.652311</td>\n",
       "    </tr>\n",
       "    <tr>\n",
       "      <th>0500000US36013</th>\n",
       "      <td>experiment16</td>\n",
       "      <td>trial1</td>\n",
       "      <td>68.086499</td>\n",
       "      <td>24.238417</td>\n",
       "      <td>-43.848082</td>\n",
       "      <td>-0.644006</td>\n",
       "      <td>68.855803</td>\n",
       "      <td>24.606994</td>\n",
       "      <td>-44.248809</td>\n",
       "      <td>-0.642630</td>\n",
       "    </tr>\n",
       "    <tr>\n",
       "      <th>0500000US36011</th>\n",
       "      <td>experiment16</td>\n",
       "      <td>trial1</td>\n",
       "      <td>68.678759</td>\n",
       "      <td>25.435903</td>\n",
       "      <td>-43.242856</td>\n",
       "      <td>-0.629639</td>\n",
       "      <td>68.991658</td>\n",
       "      <td>25.794840</td>\n",
       "      <td>-43.196818</td>\n",
       "      <td>-0.626117</td>\n",
       "    </tr>\n",
       "    <tr>\n",
       "      <th>0500000US36105</th>\n",
       "      <td>experiment16</td>\n",
       "      <td>trial1</td>\n",
       "      <td>71.006983</td>\n",
       "      <td>27.044028</td>\n",
       "      <td>-43.962955</td>\n",
       "      <td>-0.619136</td>\n",
       "      <td>70.019619</td>\n",
       "      <td>26.380143</td>\n",
       "      <td>-43.639476</td>\n",
       "      <td>-0.623246</td>\n",
       "    </tr>\n",
       "  </tbody>\n",
       "</table>\n",
       "</div>"
      ],
      "text/plain": [
       "               experiment_name population_name  actual_before  actual_after  \\\n",
       "location_name                                                                 \n",
       "0500000US36007    experiment16          trial1      70.386703     24.783810   \n",
       "0500000US36019    experiment16          trial1      66.581250     23.502717   \n",
       "0500000US36013    experiment16          trial1      68.086499     24.238417   \n",
       "0500000US36011    experiment16          trial1      68.678759     25.435903   \n",
       "0500000US36105    experiment16          trial1      71.006983     27.044028   \n",
       "\n",
       "                actual_delta  actual_change  observed_before  observed_after  \\\n",
       "location_name                                                                  \n",
       "0500000US36007    -45.602893      -0.647891        70.109481       24.571130   \n",
       "0500000US36019    -43.078533      -0.647007        67.634284       23.515698   \n",
       "0500000US36013    -43.848082      -0.644006        68.855803       24.606994   \n",
       "0500000US36011    -43.242856      -0.629639        68.991658       25.794840   \n",
       "0500000US36105    -43.962955      -0.619136        70.019619       26.380143   \n",
       "\n",
       "                observed_delta  observed_change  \n",
       "location_name                                    \n",
       "0500000US36007      -45.538351        -0.649532  \n",
       "0500000US36019      -44.118586        -0.652311  \n",
       "0500000US36013      -44.248809        -0.642630  \n",
       "0500000US36011      -43.196818        -0.626117  \n",
       "0500000US36105      -43.639476        -0.623246  "
      ]
     },
     "execution_count": 575,
     "metadata": {},
     "output_type": "execute_result"
    }
   ],
   "source": [
    "this_trial.sort_values('actual_change').tail()"
   ]
  },
  {
   "cell_type": "code",
   "execution_count": 576,
   "metadata": {},
   "outputs": [
    {
     "data": {
      "text/plain": [
       "location_name\n",
       "0500000US36001     8.0\n",
       "0500000US36005    10.0\n",
       "0500000US36007    35.0\n",
       "0500000US36009    27.0\n",
       "0500000US36011    38.0\n",
       "0500000US36013    37.0\n",
       "0500000US36015    31.0\n",
       "0500000US36019    36.0\n",
       "0500000US36027    12.0\n",
       "0500000US36029    13.0\n",
       "0500000US36045    32.0\n",
       "0500000US36047    20.0\n",
       "0500000US36051     7.0\n",
       "0500000US36053    26.0\n",
       "0500000US36055    16.0\n",
       "0500000US36059    11.0\n",
       "0500000US36061     3.0\n",
       "0500000US36063    25.0\n",
       "0500000US36065    24.0\n",
       "0500000US36067    22.0\n",
       "0500000US36069     4.0\n",
       "0500000US36071    15.0\n",
       "0500000US36075     5.0\n",
       "0500000US36079     1.0\n",
       "0500000US36081    18.0\n",
       "0500000US36083    19.0\n",
       "0500000US36085    23.0\n",
       "0500000US36087    21.0\n",
       "0500000US36089    34.0\n",
       "0500000US36091     6.0\n",
       "0500000US36093     2.0\n",
       "0500000US36101    30.0\n",
       "0500000US36103     9.0\n",
       "0500000US36105    39.0\n",
       "0500000US36109    33.0\n",
       "0500000US36111    29.0\n",
       "0500000US36113    28.0\n",
       "0500000US36117    14.0\n",
       "0500000US36119    17.0\n",
       "Name: actual_change, dtype: float64"
      ]
     },
     "execution_count": 576,
     "metadata": {},
     "output_type": "execute_result"
    }
   ],
   "source": [
    "(this_trial['actual_change']).rank()"
   ]
  },
  {
   "cell_type": "code",
   "execution_count": null,
   "metadata": {},
   "outputs": [],
   "source": []
  },
  {
   "cell_type": "code",
   "execution_count": 541,
   "metadata": {
    "scrolled": true
   },
   "outputs": [],
   "source": [
    "def topFivePlot(df_rankactual,df_rankobs,experiment):\n",
    "    '''\n",
    "    Create Actual/Observed grouped bar plot of percent of trials county is in top5 most reduced travel\n",
    "    '''\n",
    "    # Create new top5 DF\n",
    "    df_top5 = pd.DataFrame(index=np.unique(df_rankactual.index))\n",
    "\n",
    "    # Compute percentage of actual and observed ranks that are within top5\n",
    "    df_top5['Actual'] = df_rankactual.copy().apply(lambda row: len(np.where(row<=5)[0])/10 ,axis=1)\n",
    "    df_top5['Observed'] = df_rankobs.copy().apply(lambda row: len(np.where(row<=5)[0])/10 ,axis=1)\n",
    "    df_top5.reset_index(inplace=True)\n",
    "    df_top5.rename(columns={'index':'Location'},inplace=True)\n",
    "    \n",
    "    # Reformat DF for catplot\n",
    "    df_top5_melt = pd.melt(df_top5,id_vars='Location',var_name='Condition',value_name='% Trials in Top 5',value_vars=['Actual','Observed'])\n",
    "    df_top5_melt.sort_values('Location',inplace=True)\n",
    "    \n",
    "    # Plot top5\n",
    "    plt.figure(figsize=(20,8))\n",
    "    g=sns.catplot(x='Location', y=\"% Trials in Top 5\", height=8, aspect=2,hue=\"Condition\", data=df_top5_melt, kind=\"bar\")\n",
    "    g.set_xticklabels(rotation=90)\n",
    "    plt.title(f'Percent of time county is in Top5 most reduced travel for {experiment} test')\n",
    "    plt.show()"
   ]
  },
  {
   "cell_type": "code",
   "execution_count": 567,
   "metadata": {},
   "outputs": [],
   "source": [
    "def rankchangesPlot(df_rankchanges,experiment):\n",
    "    '''\n",
    "    Create barplot of how mean ranking of most-least decrease in travel varies across counties\n",
    "    with error bars representing between trial variety\n",
    "    '''\n",
    "    df_rankchanges_all = df_rankchanges.copy(deep=True)\n",
    "    df_rankchanges_all['mean']=df_rankchanges.mean(axis=1)\n",
    "    df_rankchanges_all['minus']=df_rankchanges.mean(axis=1)-df_trials.min(axis=1)\n",
    "    df_rankchanges_all['plus']=df_rankchanges.max(axis=1)-df_trials.mean(axis=1)\n",
    "    \n",
    "    plt.figure(figsize=(20,8))\n",
    "    plt.bar(df_rankchanges_all.index,df_rankchanges_all['mean'],color='blue',yerr=(df_rankchanges_all['plus'],df_rankchanges_all['minus']),capsize=5)\n",
    "    plt.xticks(rotation=90)\n",
    "    plt.title(f'Change between actual/observed ranking of travel decrease across counties for {experiment} test')\n",
    "    plt.ylabel('Ranks changed')\n",
    "    plt.xlabel('County ID')\n",
    "    plt.show()"
   ]
  },
  {
   "cell_type": "code",
   "execution_count": 558,
   "metadata": {},
   "outputs": [],
   "source": [
    "a,b,c = rankingDFs(experiment1.get_results(style='df'),10)"
   ]
  },
  {
   "cell_type": "code",
   "execution_count": 562,
   "metadata": {},
   "outputs": [
    {
     "data": {
      "text/plain": [
       "<Figure size 1440x576 with 0 Axes>"
      ]
     },
     "metadata": {},
     "output_type": "display_data"
    },
    {
     "data": {
      "image/png": "[encoded data removed]",
      "text/plain": [
       "<Figure size 1235.88x576 with 1 Axes>"
      ]
     },
     "metadata": {
      "needs_background": "light"
     },
     "output_type": "display_data"
    }
   ],
   "source": [
    "topFivePlot(a,b,'Full Compliance')"
   ]
  },
  {
   "cell_type": "code",
   "execution_count": 565,
   "metadata": {},
   "outputs": [
    {
     "data": {
      "image/png": "[encoded data removed]",
      "text/plain": [
       "<Figure size 1440x576 with 1 Axes>"
      ]
     },
     "metadata": {
      "needs_background": "light"
     },
     "output_type": "display_data"
    }
   ],
   "source": [
    "rankchangesPlot(c,'Full Compliance')"
   ]
  },
  {
   "cell_type": "code",
   "execution_count": 526,
   "metadata": {},
   "outputs": [
    {
     "data": {
      "text/html": [
       "<div>\n",
       "<style scoped>\n",
       "    .dataframe tbody tr th:only-of-type {\n",
       "        vertical-align: middle;\n",
       "    }\n",
       "\n",
       "    .dataframe tbody tr th {\n",
       "        vertical-align: top;\n",
       "    }\n",
       "\n",
       "    .dataframe thead th {\n",
       "        text-align: right;\n",
       "    }\n",
       "</style>\n",
       "<table border=\"1\" class=\"dataframe\">\n",
       "  <thead>\n",
       "    <tr style=\"text-align: right;\">\n",
       "      <th></th>\n",
       "      <th>Location</th>\n",
       "      <th>Actual</th>\n",
       "      <th>Observed</th>\n",
       "    </tr>\n",
       "  </thead>\n",
       "  <tbody>\n",
       "    <tr>\n",
       "      <th>0</th>\n",
       "      <td>0500000US36001</td>\n",
       "      <td>0.0</td>\n",
       "      <td>0.2</td>\n",
       "    </tr>\n",
       "    <tr>\n",
       "      <th>1</th>\n",
       "      <td>0500000US36005</td>\n",
       "      <td>0.1</td>\n",
       "      <td>0.0</td>\n",
       "    </tr>\n",
       "    <tr>\n",
       "      <th>2</th>\n",
       "      <td>0500000US36007</td>\n",
       "      <td>0.0</td>\n",
       "      <td>0.0</td>\n",
       "    </tr>\n",
       "    <tr>\n",
       "      <th>3</th>\n",
       "      <td>0500000US36009</td>\n",
       "      <td>0.0</td>\n",
       "      <td>0.0</td>\n",
       "    </tr>\n",
       "    <tr>\n",
       "      <th>4</th>\n",
       "      <td>0500000US36011</td>\n",
       "      <td>0.0</td>\n",
       "      <td>0.0</td>\n",
       "    </tr>\n",
       "  </tbody>\n",
       "</table>\n",
       "</div>"
      ],
      "text/plain": [
       "         Location  Actual  Observed\n",
       "0  0500000US36001     0.0       0.2\n",
       "1  0500000US36005     0.1       0.0\n",
       "2  0500000US36007     0.0       0.0\n",
       "3  0500000US36009     0.0       0.0\n",
       "4  0500000US36011     0.0       0.0"
      ]
     },
     "execution_count": 526,
     "metadata": {},
     "output_type": "execute_result"
    }
   ],
   "source": [
    "# Create new top5 DF\n",
    "df_top5 = pd.DataFrame(index=np.unique(df_rankactual.index))\n",
    "\n",
    "# Compute percentage of actual and observed ranks that are within top5\n",
    "df_top5['Actual'] = df_rankactual.copy().apply(lambda row: len(np.where(row<=5)[0])/10 ,axis=1)\n",
    "df_top5['Observed'] = df_rankobs.copy().apply(lambda row: len(np.where(row<=5)[0])/10 ,axis=1)\n",
    "df_top5.reset_index(inplace=True)\n",
    "df_top5.rename(columns={'index':'Location'},inplace=True)\n",
    "df_top5.head()"
   ]
  },
  {
   "cell_type": "code",
   "execution_count": null,
   "metadata": {},
   "outputs": [],
   "source": []
  },
  {
   "cell_type": "code",
   "execution_count": 527,
   "metadata": {},
   "outputs": [],
   "source": [
    "# Reformat DF for catplot\n",
    "df_top5_melt = pd.melt(df_top5,id_vars='Location',var_name='Condition',value_name='% Trials in Top 5',value_vars=['Actual','Observed'])\n",
    "df_top5_melt.sort_values('Location',inplace=True)"
   ]
  },
  {
   "cell_type": "code",
   "execution_count": 528,
   "metadata": {},
   "outputs": [
    {
     "data": {
      "text/plain": [
       "<Figure size 1440x576 with 0 Axes>"
      ]
     },
     "metadata": {},
     "output_type": "display_data"
    },
    {
     "data": {
      "image/png": "[encoded data removed]",
      "text/plain": [
       "<Figure size 1235.88x576 with 1 Axes>"
      ]
     },
     "metadata": {
      "needs_background": "light"
     },
     "output_type": "display_data"
    }
   ],
   "source": [
    "# Plot top5\n",
    "plt.figure(figsize=(20,8))\n",
    "g=sns.catplot(x='Location', y=\"% Trials in Top 5\", height=8, aspect=2,hue=\"Condition\", data=df_top5_melt, kind=\"bar\")\n",
    "g.set_xticklabels(rotation=90)\n",
    "plt.title('Percent of time county is in Top5 most reduced travel')\n",
    "plt.show()"
   ]
  },
  {
   "cell_type": "code",
   "execution_count": 499,
   "metadata": {},
   "outputs": [
    {
     "data": {
      "text/plain": [
       "<Figure size 1440x576 with 0 Axes>"
      ]
     },
     "metadata": {},
     "output_type": "display_data"
    },
    {
     "data": {
      "image/png": "[encoded data removed]",
      "text/plain": [
       "<Figure size 1235.88x576 with 1 Axes>"
      ]
     },
     "metadata": {
      "needs_background": "light"
     },
     "output_type": "display_data"
    }
   ],
   "source": [
    "plt.figure(figsize=(20,8))\n",
    "g=sns.catplot(x='Location', y=\"% Trials in Top 5\", height=8, aspect=2,hue=\"Condition\", data=df_top5_melt, kind=\"bar\")\n",
    "g.set_xticklabels(rotation=90)\n",
    "plt.title('Percent of time county is in Top5 most reduced travel')\n",
    "plt.show()"
   ]
  },
  {
   "cell_type": "code",
   "execution_count": 416,
   "metadata": {},
   "outputs": [
    {
     "data": {
      "image/png": "[encoded data removed]",
      "text/plain": [
       "<Figure size 1440x576 with 1 Axes>"
      ]
     },
     "metadata": {
      "needs_background": "light"
     },
     "output_type": "display_data"
    }
   ],
   "source": [
    "plt.figure(figsize=(20,8))\n",
    "plt.bar(df_rankactual.index,df_rankactual['Top5'],color='blue',alpha=0.3,label='Actual')\n",
    "plt.bar(df_rankobs.index,df_rankobs['Top5'],color='red',alpha=0.3,label='Observed')\n",
    "plt.xticks(rotation=90)\n",
    "plt.title('Percent of time county is in Top5 most reduced travel')\n",
    "plt.ylabel('% Trials in Top5')\n",
    "plt.xlabel('County ID')\n",
    "plt.legend()\n",
    "plt.show()"
   ]
  },
  {
   "cell_type": "code",
   "execution_count": 395,
   "metadata": {},
   "outputs": [],
   "source": [
    "df_rankchanges_all = df_rankchanges.copy(deep=True)\n",
    "df_rankchanges_all['mean']=df_rankchanges.mean(axis=1)\n",
    "df_rankchanges_all['minus']=df_rankchanges.mean(axis=1)-df_trials.min(axis=1)\n",
    "df_rankchanges_all['plus']=df_rankchanges.max(axis=1)-df_trials.mean(axis=1)"
   ]
  },
  {
   "cell_type": "code",
   "execution_count": 386,
   "metadata": {},
   "outputs": [
    {
     "data": {
      "text/html": [
       "<div>\n",
       "<style scoped>\n",
       "    .dataframe tbody tr th:only-of-type {\n",
       "        vertical-align: middle;\n",
       "    }\n",
       "\n",
       "    .dataframe tbody tr th {\n",
       "        vertical-align: top;\n",
       "    }\n",
       "\n",
       "    .dataframe thead th {\n",
       "        text-align: right;\n",
       "    }\n",
       "</style>\n",
       "<table border=\"1\" class=\"dataframe\">\n",
       "  <thead>\n",
       "    <tr style=\"text-align: right;\">\n",
       "      <th></th>\n",
       "      <th>rank_change_1</th>\n",
       "      <th>rank_change_2</th>\n",
       "      <th>rank_change_3</th>\n",
       "      <th>rank_change_4</th>\n",
       "      <th>rank_change_5</th>\n",
       "      <th>rank_change_6</th>\n",
       "      <th>rank_change_7</th>\n",
       "      <th>rank_change_8</th>\n",
       "      <th>rank_change_9</th>\n",
       "      <th>rank_change_10</th>\n",
       "      <th>mean</th>\n",
       "      <th>minus</th>\n",
       "      <th>plus</th>\n",
       "    </tr>\n",
       "  </thead>\n",
       "  <tbody>\n",
       "    <tr>\n",
       "      <th>0500000US36001</th>\n",
       "      <td>-2.0</td>\n",
       "      <td>-2.0</td>\n",
       "      <td>-1.0</td>\n",
       "      <td>-4.0</td>\n",
       "      <td>-1.0</td>\n",
       "      <td>4.0</td>\n",
       "      <td>-3.0</td>\n",
       "      <td>5.0</td>\n",
       "      <td>-3.0</td>\n",
       "      <td>-2.0</td>\n",
       "      <td>-0.9</td>\n",
       "      <td>3.1</td>\n",
       "      <td>5.9</td>\n",
       "    </tr>\n",
       "    <tr>\n",
       "      <th>0500000US36005</th>\n",
       "      <td>5.0</td>\n",
       "      <td>-2.0</td>\n",
       "      <td>0.0</td>\n",
       "      <td>1.0</td>\n",
       "      <td>-2.0</td>\n",
       "      <td>3.0</td>\n",
       "      <td>-2.0</td>\n",
       "      <td>0.0</td>\n",
       "      <td>1.0</td>\n",
       "      <td>-1.0</td>\n",
       "      <td>0.3</td>\n",
       "      <td>2.3</td>\n",
       "      <td>4.7</td>\n",
       "    </tr>\n",
       "    <tr>\n",
       "      <th>0500000US36007</th>\n",
       "      <td>-1.0</td>\n",
       "      <td>2.0</td>\n",
       "      <td>-1.0</td>\n",
       "      <td>-1.0</td>\n",
       "      <td>0.0</td>\n",
       "      <td>0.0</td>\n",
       "      <td>1.0</td>\n",
       "      <td>0.0</td>\n",
       "      <td>-1.0</td>\n",
       "      <td>1.0</td>\n",
       "      <td>0.0</td>\n",
       "      <td>1.0</td>\n",
       "      <td>2.0</td>\n",
       "    </tr>\n",
       "    <tr>\n",
       "      <th>0500000US36009</th>\n",
       "      <td>1.0</td>\n",
       "      <td>1.0</td>\n",
       "      <td>2.0</td>\n",
       "      <td>-1.0</td>\n",
       "      <td>-2.0</td>\n",
       "      <td>2.0</td>\n",
       "      <td>3.0</td>\n",
       "      <td>2.0</td>\n",
       "      <td>0.0</td>\n",
       "      <td>4.0</td>\n",
       "      <td>1.2</td>\n",
       "      <td>3.2</td>\n",
       "      <td>2.8</td>\n",
       "    </tr>\n",
       "    <tr>\n",
       "      <th>0500000US36011</th>\n",
       "      <td>0.0</td>\n",
       "      <td>-4.0</td>\n",
       "      <td>1.0</td>\n",
       "      <td>0.0</td>\n",
       "      <td>0.0</td>\n",
       "      <td>1.0</td>\n",
       "      <td>-1.0</td>\n",
       "      <td>0.0</td>\n",
       "      <td>1.0</td>\n",
       "      <td>-1.0</td>\n",
       "      <td>-0.3</td>\n",
       "      <td>3.7</td>\n",
       "      <td>1.3</td>\n",
       "    </tr>\n",
       "  </tbody>\n",
       "</table>\n",
       "</div>"
      ],
      "text/plain": [
       "                rank_change_1  rank_change_2  rank_change_3  rank_change_4  \\\n",
       "0500000US36001           -2.0           -2.0           -1.0           -4.0   \n",
       "0500000US36005            5.0           -2.0            0.0            1.0   \n",
       "0500000US36007           -1.0            2.0           -1.0           -1.0   \n",
       "0500000US36009            1.0            1.0            2.0           -1.0   \n",
       "0500000US36011            0.0           -4.0            1.0            0.0   \n",
       "\n",
       "                rank_change_5  rank_change_6  rank_change_7  rank_change_8  \\\n",
       "0500000US36001           -1.0            4.0           -3.0            5.0   \n",
       "0500000US36005           -2.0            3.0           -2.0            0.0   \n",
       "0500000US36007            0.0            0.0            1.0            0.0   \n",
       "0500000US36009           -2.0            2.0            3.0            2.0   \n",
       "0500000US36011            0.0            1.0           -1.0            0.0   \n",
       "\n",
       "                rank_change_9  rank_change_10  mean  minus  plus  \n",
       "0500000US36001           -3.0            -2.0  -0.9    3.1   5.9  \n",
       "0500000US36005            1.0            -1.0   0.3    2.3   4.7  \n",
       "0500000US36007           -1.0             1.0   0.0    1.0   2.0  \n",
       "0500000US36009            0.0             4.0   1.2    3.2   2.8  \n",
       "0500000US36011            1.0            -1.0  -0.3    3.7   1.3  "
      ]
     },
     "execution_count": 386,
     "metadata": {},
     "output_type": "execute_result"
    }
   ],
   "source": [
    "df_rankchanges_all.head()"
   ]
  },
  {
   "cell_type": "code",
   "execution_count": 387,
   "metadata": {},
   "outputs": [
    {
     "data": {
      "image/png": "[encoded data removed]",
      "text/plain": [
       "<Figure size 1440x576 with 1 Axes>"
      ]
     },
     "metadata": {
      "needs_background": "light"
     },
     "output_type": "display_data"
    }
   ],
   "source": [
    "plt.figure(figsize=(20,8))\n",
    "plt.bar(df_rankchanges_all.index,df_rankchanges_all['mean'],color='blue',yerr=(df_rankchanges_all['plus'],df_rankchanges_all['minus']),capsize=5)\n",
    "plt.xticks(rotation=90)\n",
    "plt.title('Difference in Ranking of travel decrease across counties')\n",
    "plt.ylabel('Ranks changed')\n",
    "plt.xlabel('County ID')\n",
    "plt.show()"
   ]
  },
  {
   "cell_type": "code",
   "execution_count": 276,
   "metadata": {},
   "outputs": [
    {
     "data": {
      "text/plain": [
       "23    0500000US36079\n",
       "18    0500000US36065\n",
       "27    0500000US36087\n",
       "25    0500000US36083\n",
       "15    0500000US36059\n",
       "Name: location_name, dtype: object"
      ]
     },
     "execution_count": 276,
     "metadata": {},
     "output_type": "execute_result"
    }
   ],
   "source": [
    "df.sort_values('observed_change')['location_name'].head()"
   ]
  },
  {
   "cell_type": "code",
   "execution_count": 282,
   "metadata": {},
   "outputs": [
    {
     "data": {
      "text/plain": [
       "0      0.0\n",
       "1      3.0\n",
       "2     -4.0\n",
       "3      0.0\n",
       "4      3.0\n",
       "5      2.0\n",
       "6      0.0\n",
       "7      6.0\n",
       "8     -3.0\n",
       "9     -1.0\n",
       "10    -1.0\n",
       "11     5.0\n",
       "12     0.0\n",
       "13    -3.0\n",
       "14     5.0\n",
       "15    -1.0\n",
       "16     1.0\n",
       "17    -4.0\n",
       "18     1.0\n",
       "19    -1.0\n",
       "20    -9.0\n",
       "21    -6.0\n",
       "22    15.0\n",
       "23    -2.0\n",
       "24    -2.0\n",
       "25     0.0\n",
       "26    -2.0\n",
       "27    -2.0\n",
       "28     0.0\n",
       "29    -2.0\n",
       "30     0.0\n",
       "31     3.0\n",
       "32     0.0\n",
       "33    -5.0\n",
       "34    -3.0\n",
       "35    -2.0\n",
       "36     0.0\n",
       "37     9.0\n",
       "38     0.0\n",
       "Name: rank_change, dtype: float64"
      ]
     },
     "execution_count": 282,
     "metadata": {},
     "output_type": "execute_result"
    }
   ],
   "source": [
    "df['rank_change']"
   ]
  },
  {
   "cell_type": "code",
   "execution_count": null,
   "metadata": {},
   "outputs": [],
   "source": []
  }
 ],
 "metadata": {
  "kernelspec": {
   "display_name": "Python 3",
   "language": "python",
   "name": "python3"
  },
  "language_info": {
   "codemirror_mode": {
    "name": "ipython",
    "version": 3
   },
   "file_extension": ".py",
   "mimetype": "text/x-python",
   "name": "python",
   "nbconvert_exporter": "python",
   "pygments_lexer": "ipython3",
   "version": "3.7.6"
  }
 },
 "nbformat": 4,
 "nbformat_minor": 4
}
