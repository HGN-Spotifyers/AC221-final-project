{
 "cells": [
  {
   "cell_type": "code",
   "execution_count": null,
   "metadata": {},
   "outputs": [],
   "source": [
    "import numpy as np\n",
    "import pandas as pd\n",
    "\n",
    "from tqdm.notebook import tqdm\n",
    "\n",
    "from IPython.display import display\n"
   ]
  },
  {
   "cell_type": "code",
   "execution_count": null,
   "metadata": {},
   "outputs": [],
   "source": [
    "%load_ext autoreload\n",
    "%autoreload 2\n",
    "    \n",
    "from simulation_tools import Population\n",
    "from simulation_tools import Transformation\n",
    "from simulation_tools import Metric\n",
    "from simulation_tools import Experiment\n"
   ]
  },
  {
   "cell_type": "code",
   "execution_count": null,
   "metadata": {},
   "outputs": [],
   "source": [
    "# Load data:\n",
    "SYNTHETIC_DATA = './synthetic_data/'\n",
    "\n",
    "dummy = False\n",
    "\n",
    "if dummy:\n",
    "\n",
    "    location_attributes = pd.read_csv(SYNTHETIC_DATA+'location_attributes_dummy.csv')\n",
    "    location_profiles = pd.read_csv(SYNTHETIC_DATA+'location_profiles_dummy.csv')\n",
    "\n",
    "else:\n",
    "    \n",
    "    location_attributes = pd.read_csv(SYNTHETIC_DATA+'location_attributes_census.csv')\n",
    "    location_attributes['location_name'] = location_attributes['location_id']\n",
    "\n",
    "    location_profiles = pd.read_csv(SYNTHETIC_DATA+'location_profiles_census.csv')\n",
    "    location_profiles['location_name'] = location_profiles['location_id']\n",
    "    \n",
    "    # Limit to one state and divide population by a constant to get reasonable sample size.\n",
    "    state = 'New York'\n",
    "    constant = 1000\n",
    "    location_attributes = location_attributes[location_attributes['location_state']==state]\n",
    "    location_profiles = location_profiles[location_profiles['location_state']==state]\n",
    "    location_attributes['population'] = (location_attributes['population']/constant).astype(int)\n",
    "    \n",
    "    # Rescale standard deviations:\n",
    "    location_profiles['worktravel_std'] = np.round(location_profiles['worktravel_std']/20,1)\n",
    "    location_profiles['socialtravel_std'] = np.round(location_profiles['socialtravel_std']/20,1)\n",
    "    location_profiles['grocerytravel_std'] = np.round(location_profiles['grocerytravel_std']/20,1)\n",
    "    \n",
    "print(\"Loaded data for {} locations ({} people).\".format(\n",
    "    len(location_attributes),location_attributes['population'].sum()\n",
    "))\n",
    "\n",
    "display(location_attributes.head())\n",
    "display(location_profiles.head())\n"
   ]
  },
  {
   "cell_type": "code",
   "execution_count": null,
   "metadata": {},
   "outputs": [],
   "source": [
    "#population = Population(location_attributes, location_profiles, random_state=221)\n",
    "#transformation = Transformation(population, behavior='total_compliance', random_state=221)\n",
    "#metric = Metric(population, transformation, method='median_person', random_state=221)\n",
    "\n",
    "experiment1 = Experiment(\n",
    "    location_attributes, location_profiles, behavior='total_compliance',\n",
    "    metric_method='median_person', summary_method='worst5_status',\n",
    "    trials=10, show_progress=True, experiment_name=None, random_state=221,\n",
    ")\n"
   ]
  },
  {
   "cell_type": "code",
   "execution_count": null,
   "metadata": {
    "scrolled": false
   },
   "outputs": [],
   "source": [
    "# Raw metrics:\n",
    "display(experiment1.get_results(style='df').head())\n",
    "display(experiment1.get_results(style='mean').head())\n",
    "display(experiment1.get_results(style='std').head())\n"
   ]
  },
  {
   "cell_type": "code",
   "execution_count": null,
   "metadata": {},
   "outputs": [],
   "source": [
    "# Summarized metrics:\n",
    "display(experiment1.get_summaries(style='df').head())\n",
    "display(experiment1.get_summaries(style='mean').head())\n",
    "display(experiment1.get_summaries(style='std').head())\n"
   ]
  },
  {
   "cell_type": "code",
   "execution_count": null,
   "metadata": {},
   "outputs": [],
   "source": [
    "# Get results from frist trial:\n",
    "df = experiment1.get_results(style='df')\n",
    "df.loc[(experiment1.experiment_name,\"trial1\")]\n"
   ]
  },
  {
   "cell_type": "code",
   "execution_count": null,
   "metadata": {},
   "outputs": [],
   "source": [
    "# Get people table from first trial:\n",
    "experiment1._before[0]\n"
   ]
  },
  {
   "cell_type": "code",
   "execution_count": null,
   "metadata": {},
   "outputs": [],
   "source": []
  }
 ],
 "metadata": {
  "kernelspec": {
   "display_name": "Python 3",
   "language": "python",
   "name": "python3"
  },
  "language_info": {
   "codemirror_mode": {
    "name": "ipython",
    "version": 3
   },
   "file_extension": ".py",
   "mimetype": "text/x-python",
   "name": "python",
   "nbconvert_exporter": "python",
   "pygments_lexer": "ipython3",
   "version": "3.7.6"
  }
 },
 "nbformat": 4,
 "nbformat_minor": 4
}
